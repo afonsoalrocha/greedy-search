{
  "nbformat": 4,
  "nbformat_minor": 0,
  "metadata": {
    "colab": {
      "name": "2-a-star-search.ipynb",
      "provenance": [],
      "authorship_tag": "ABX9TyNTAI2r/C+EsO8ILP2MCrLd",
      "include_colab_link": true
    },
    "kernelspec": {
      "name": "python3",
      "display_name": "Python 3"
    }
  },
  "cells": [
    {
      "cell_type": "markdown",
      "metadata": {
        "id": "view-in-github",
        "colab_type": "text"
      },
      "source": [
        "<a href=\"https://colab.research.google.com/github/afonsoalrocha/greedy-search-and-a-star-search/blob/main/2_a_star_search.ipynb\" target=\"_parent\"><img src=\"https://colab.research.google.com/assets/colab-badge.svg\" alt=\"Open In Colab\"/></a>"
      ]
    },
    {
      "cell_type": "markdown",
      "metadata": {
        "id": "lA62kG-JP0I4"
      },
      "source": [
        "# A-star Search - Bucharest cities\r\n",
        "the main difference between the A-star search and the greedy search is that while the greedy one only cares about the distance from the node to the final goal in a straight line, the A-star search considers not only this but also the distance between the current node and the next no to make the best choice.\r\n",
        "\r\n",
        "P.S. I will comment the mais differences between the codes."
      ]
    },
    {
      "cell_type": "code",
      "metadata": {
        "id": "nfefTxraA0TO"
      },
      "source": [
        "class Node:\r\n",
        "  def __init__(self, node_name, distance_goal):\r\n",
        "    self.node_name = node_name\r\n",
        "    self.visited = False\r\n",
        "    self.distance_goal = distance_goal\r\n",
        "    self.links = []\r\n",
        "\r\n",
        "  def add_link(self, link ):\r\n",
        "    self.links.append(link)\r\n",
        "\r\n",
        "  def show_link(self):\r\n",
        "    for i in self.link:\r\n",
        "      print(i)"
      ],
      "execution_count": 1,
      "outputs": []
    },
    {
      "cell_type": "code",
      "metadata": {
        "id": "vViToOCgetL7"
      },
      "source": [
        "class Link:\r\n",
        "    def __init__(self, node, cost):\r\n",
        "        self.node = node\r\n",
        "        self.cost = cost\r\n",
        "        self.a_star_distance = node.distance_goal + self.cost # main difference between the a-star and the greedy search, the sum of the two distances."
      ],
      "execution_count": 2,
      "outputs": []
    },
    {
      "cell_type": "code",
      "metadata": {
        "id": "zWElRBewe07Z"
      },
      "source": [
        "class Graph:\r\n",
        "  arad = Node('Arad', 366)\r\n",
        "  zerind = Node('Zerind', 374)\r\n",
        "  oradea = Node('Oradea', 380)\r\n",
        "  sibiu = Node('Sibiu', 253)\r\n",
        "  timisoara = Node('Timisoara', 329)\r\n",
        "  lugoj = Node('Lugoj', 244)\r\n",
        "  mehadia = Node('Mehadia', 241)\r\n",
        "  dobreta = Node('Dobreta', 242)\r\n",
        "  craiova = Node('Craiova', 160)\r\n",
        "  rimnicu = Node('Rimnicu', 193)\r\n",
        "  fagaras = Node('Fagaras', 178)\r\n",
        "  pitesti = Node('Pitesti', 98)\r\n",
        "  bucharest = Node('Bucharest', 0)\r\n",
        "  giurgiu = Node('Giurgiu', 77)\r\n",
        "\r\n",
        "  arad.add_link(Link(zerind, 75))\r\n",
        "  arad.add_link(Link(sibiu, 140))\r\n",
        "  arad.add_link(Link(timisoara, 118))\r\n",
        "\r\n",
        "  zerind.add_link(Link(arad, 75))\r\n",
        "  zerind.add_link(Link(oradea, 71))\r\n",
        "\r\n",
        "  oradea.add_link(Link(zerind, 71))\r\n",
        "  oradea.add_link(Link(sibiu, 151))\r\n",
        "\r\n",
        "  sibiu.add_link(Link(oradea, 151))\r\n",
        "  sibiu.add_link(Link(arad, 140))\r\n",
        "  sibiu.add_link(Link(fagaras, 99))\r\n",
        "  sibiu.add_link(Link(rimnicu, 80))\r\n",
        "\r\n",
        "  timisoara.add_link(Link(arad, 118))\r\n",
        "  timisoara.add_link(Link(lugoj, 111))\r\n",
        "\r\n",
        "  lugoj.add_link(Link(timisoara, 111))\r\n",
        "  lugoj.add_link(Link(mehadia, 70))\r\n",
        "\r\n",
        "  mehadia.add_link(Link(lugoj, 70))\r\n",
        "  mehadia.add_link(Link(dobreta, 75))\r\n",
        "\r\n",
        "  dobreta.add_link(Link(mehadia, 75))\r\n",
        "  dobreta.add_link(Link(craiova, 120))\r\n",
        "\r\n",
        "  craiova.add_link(Link(dobreta, 120))\r\n",
        "  craiova.add_link(Link(pitesti, 138))\r\n",
        "  craiova.add_link(Link(rimnicu, 146))\r\n",
        "\r\n",
        "  rimnicu.add_link(Link(craiova, 146))\r\n",
        "  rimnicu.add_link(Link(sibiu, 80))\r\n",
        "  rimnicu.add_link(Link(pitesti, 97))\r\n",
        "\r\n",
        "  fagaras.add_link(Link(sibiu, 99))\r\n",
        "  fagaras.add_link(Link(bucharest, 211))\r\n",
        "\r\n",
        "  pitesti.add_link(Link(rimnicu, 97))\r\n",
        "  pitesti.add_link(Link(craiova, 138))\r\n",
        "  pitesti.add_link(Link(bucharest, 101))\r\n",
        "\r\n",
        "  bucharest.add_link(Link(fagaras, 211))\r\n",
        "  bucharest.add_link(Link(pitesti, 101))\r\n",
        "  bucharest.add_link(Link(giurgiu, 90))"
      ],
      "execution_count": 3,
      "outputs": []
    },
    {
      "cell_type": "code",
      "metadata": {
        "id": "Cjpi9VV5e16i"
      },
      "source": [
        "graph = Graph()"
      ],
      "execution_count": 4,
      "outputs": []
    },
    {
      "cell_type": "markdown",
      "metadata": {
        "id": "Au5hCXJvghNA"
      },
      "source": [
        "## Changing the Sorted Vector\r\n",
        "\r\n",
        "In this case we will sort the values, but not from the Node objects but the links.\r\n",
        "\r\n"
      ]
    },
    {
      "cell_type": "code",
      "metadata": {
        "id": "3uJjcvAhkxoc"
      },
      "source": [
        "import numpy as np\r\n",
        "class SortedVector:\r\n",
        "  \r\n",
        "  def __init__(self, size):\r\n",
        "    self.size = size\r\n",
        "    self.last_position = -1\r\n",
        "    self.values = np.empty(self.size, dtype=object)\r\n",
        "\r\n",
        "  def insert(self, link): # now we bring the link to be sorted, not the node.\r\n",
        "    if self.last_position == self.size - 1:\r\n",
        "      print(\"You've reached maximum capacity\")\r\n",
        "      return\r\n",
        "    position = 0\r\n",
        "    for i in range(self.last_position + 1): \r\n",
        "      position = i\r\n",
        "      if self.values[i].a_star_distance > link.a_star_distance: # here is the big difference!\r\n",
        "        break\r\n",
        "      if i == self.last_position: \r\n",
        "        position = i + 1\r\n",
        "    x = self.last_position\r\n",
        "    while x >= position:\r\n",
        "      self.values[x + 1] = self.values[x] \r\n",
        "      x -= 1\r\n",
        "    self.values[position] = link # adding the links to be sorted\r\n",
        "    self.last_position += 1\r\n",
        "\r\n",
        "  def show(self):\r\n",
        "    if self.last_position == -1:\r\n",
        "      print('There is no vector here :(')\r\n",
        "    else:\r\n",
        "      for i in range(self.last_position + 1): # in order to compare we will print the cost and both distances.\r\n",
        "        print(i, ' - ', self.values[i].node.node_name, ' - ',\r\n",
        "              self.values[i].cost, ' - ',  \r\n",
        "              self.values[i].node.distance_goal, ' - ',\r\n",
        "              self.values[i].a_star_distance)  "
      ],
      "execution_count": 6,
      "outputs": []
    },
    {
      "cell_type": "markdown",
      "metadata": {
        "id": "E3GvMxAibWFp"
      },
      "source": [
        "## A Star\r\n",
        "\r\n",
        "Now when we implement the A Star Search you will me able to notice that this algorithm chose a different path, a shorter one! Because it is more precise since it considers the cost!\r\n",
        "\r\n"
      ]
    },
    {
      "cell_type": "code",
      "metadata": {
        "id": "YUqHXXXIlB7z"
      },
      "source": [
        "class AStar:\r\n",
        "  def __init__(self, goal):\r\n",
        "    self.goal = goal\r\n",
        "    self.success = False\r\n",
        "\r\n",
        "  def search(self, current_node):\r\n",
        "    print('-------')\r\n",
        "    print('Current City: {}'.format(current_node.node_name))\r\n",
        "    current_node.visited = True\r\n",
        "\r\n",
        "    if current_node == self.goal:\r\n",
        "      self.success = True \r\n",
        "    else:\r\n",
        "      sorted_vector = SortedVector(len(current_node.links)) \r\n",
        "      for link in current_node.links:  \r\n",
        "        if link.node.visited == False: \r\n",
        "          link.node.visited == True\r\n",
        "          sorted_vector.insert(link) # We insert the whole link now with the A-star distance information\r\n",
        "      sorted_vector.show()\r\n",
        "\r\n",
        "      if sorted_vector.values[0] != None:\r\n",
        "        self.search(sorted_vector.values[0].node) # We still send the node to go through the loop again."
      ],
      "execution_count": 9,
      "outputs": []
    },
    {
      "cell_type": "code",
      "metadata": {
        "colab": {
          "base_uri": "https://localhost:8080/"
        },
        "id": "kYHGONTSPD4B",
        "outputId": "8542637b-3f34-44b3-fb13-cc2648bcadd0"
      },
      "source": [
        "a_star_search = AStar(graph.bucharest)\r\n",
        "a_star_search.search(graph.arad)"
      ],
      "execution_count": 10,
      "outputs": [
        {
          "output_type": "stream",
          "text": [
            "-------\n",
            "Current City: Arad\n",
            "0  -  Sibiu  -  140  -  253  -  393\n",
            "1  -  Timisoara  -  118  -  329  -  447\n",
            "2  -  Zerind  -  75  -  374  -  449\n",
            "-------\n",
            "Current City: Sibiu\n",
            "0  -  Rimnicu  -  80  -  193  -  273\n",
            "1  -  Fagaras  -  99  -  178  -  277\n",
            "2  -  Oradea  -  151  -  380  -  531\n",
            "-------\n",
            "Current City: Rimnicu\n",
            "0  -  Pitesti  -  97  -  98  -  195\n",
            "1  -  Craiova  -  146  -  160  -  306\n",
            "-------\n",
            "Current City: Pitesti\n",
            "0  -  Bucharest  -  101  -  0  -  101\n",
            "1  -  Craiova  -  138  -  160  -  298\n",
            "-------\n",
            "Current City: Bucharest\n"
          ],
          "name": "stdout"
        }
      ]
    }
  ]
}